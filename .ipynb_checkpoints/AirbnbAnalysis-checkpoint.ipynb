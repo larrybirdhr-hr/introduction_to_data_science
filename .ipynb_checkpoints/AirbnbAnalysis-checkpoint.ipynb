{
 "cells": [
  {
   "cell_type": "markdown",
   "metadata": {},
   "source": [
    "# CRISP-DM Data Science process\n",
    "\n",
    "## Analyzing the Airbnb Seattle and Boston Listing Data\n",
    "### Business Understanding\n",
    "From the Airbnb Data one can gain insight on how the rental price is set up in both Seattle and Boston, and what features contribute to the top rental amenities. Questions would be investigated are: <br>\n",
    "1): <br>\n",
    "2): <br>\n",
    "3): <br>"
   ]
  },
  {
   "cell_type": "code",
   "execution_count": null,
   "metadata": {},
   "outputs": [],
   "source": []
  }
 ],
 "metadata": {
  "kernelspec": {
   "display_name": "Python 3",
   "language": "python",
   "name": "python3"
  },
  "language_info": {
   "codemirror_mode": {
    "name": "ipython",
    "version": 3
   },
   "file_extension": ".py",
   "mimetype": "text/x-python",
   "name": "python",
   "nbconvert_exporter": "python",
   "pygments_lexer": "ipython3",
   "version": "3.7.5"
  }
 },
 "nbformat": 4,
 "nbformat_minor": 2
}
