{
 "cells": [
  {
   "cell_type": "markdown",
   "metadata": {},
   "source": [
    "# CRISP-DM Data Science process\n",
    "\n",
    "## Analyzing the Seattle and Boston Airbnb Listing Data\n",
    "### Business Understanding\n",
    "From the Airbnb Data one can gain insight on how the rental price is set up in both Seattle and Boston, and what features contribute to the top rental amenities. Questions would be investigated are: <br>\n",
    "1): Are there significant difference between Boston and Seattle Airbnb data? <br>\n",
    "2): What features are most dominant to determine the rental price in both markets?<br>\n",
    "3): What amenities are import to determine the rental price in both markets?<br>\n",
    "### Data Preprocessing\n",
    "Boston Airbnb has 3585 entires in the listing, while Seattle Airbnb has 3818 entries. There are 29819 total missing values in Seattle data and 50229 missing values in Boston Data. Data preparation includes many missing values are dropped and NA values are taken care of individually. Moreover, the minmax scalar is used to scale the nuerical values. \n",
    "### Supervised Learning Model Traning\n",
    "An Ensemble supervised learning method: Random Forest Regressor is chosen since we want to investigate the importance of features that are dominate the rental. It is interesting to notice that Random Forest Regressor model trained with Boston Market data yield a R2 testing socre about 60%, while it only give about 30% R2 testing score on Seattle data. It should be further investigated. \n",
    "### Result and Medium Post\n",
    "The Roomtype_entire_home/apt and bedrooms are the most dominant features in determining the price in both Seattle and Boston markets. It makes sense as these two factors are relevant with the size of the home/apartment. The next influential features in both markets are the location and zip code.\n",
    "The amenities contribute less in both markets, but interesting to observe that elevator in building is the most desireable amenities in both market. \n",
    "The medium post is https://medium.com/@huangr76/what-determine-the-airbnb-price-a-look-at-boston-and-seattle-data-16a6a2606187\n",
    "\n"
   ]
  },
  {
   "cell_type": "code",
   "execution_count": 1,
   "metadata": {},
   "outputs": [],
   "source": [
    "## import packages \n",
    "import numpy as np\n",
    "import pandas as pd\n",
    "# import seaborn as sns\n",
    "import matplotlib.pyplot as plt\n",
    "from datetime import date\n",
    "from datetime import datetime\n",
    "from sklearn.preprocessing import MultiLabelBinarizer\n",
    "from sklearn.model_selection import train_test_split\n",
    "from sklearn.ensemble import RandomForestRegressor\n",
    "from sklearn.preprocessing import MinMaxScaler\n",
    "from sklearn.metrics import r2_score\n"
   ]
  },
  {
   "cell_type": "code",
   "execution_count": 2,
   "metadata": {},
   "outputs": [],
   "source": [
    "#load data\n",
    "Boston_listing = pd.read_csv(\"Boston_listings.csv\")\n",
    "Seattle_listing = pd.read_csv(\"Seattle_listings.csv\")"
   ]
  },
  {
   "cell_type": "code",
   "execution_count": 3,
   "metadata": {},
   "outputs": [
    {
     "data": {
      "text/html": [
       "<div>\n",
       "<style scoped>\n",
       "    .dataframe tbody tr th:only-of-type {\n",
       "        vertical-align: middle;\n",
       "    }\n",
       "\n",
       "    .dataframe tbody tr th {\n",
       "        vertical-align: top;\n",
       "    }\n",
       "\n",
       "    .dataframe thead th {\n",
       "        text-align: right;\n",
       "    }\n",
       "</style>\n",
       "<table border=\"1\" class=\"dataframe\">\n",
       "  <thead>\n",
       "    <tr style=\"text-align: right;\">\n",
       "      <th></th>\n",
       "      <th>id</th>\n",
       "      <th>listing_url</th>\n",
       "      <th>scrape_id</th>\n",
       "      <th>last_scraped</th>\n",
       "      <th>name</th>\n",
       "      <th>summary</th>\n",
       "      <th>space</th>\n",
       "      <th>description</th>\n",
       "      <th>experiences_offered</th>\n",
       "      <th>neighborhood_overview</th>\n",
       "      <th>...</th>\n",
       "      <th>review_scores_value</th>\n",
       "      <th>requires_license</th>\n",
       "      <th>license</th>\n",
       "      <th>jurisdiction_names</th>\n",
       "      <th>instant_bookable</th>\n",
       "      <th>cancellation_policy</th>\n",
       "      <th>require_guest_profile_picture</th>\n",
       "      <th>require_guest_phone_verification</th>\n",
       "      <th>calculated_host_listings_count</th>\n",
       "      <th>reviews_per_month</th>\n",
       "    </tr>\n",
       "  </thead>\n",
       "  <tbody>\n",
       "    <tr>\n",
       "      <th>0</th>\n",
       "      <td>12147973</td>\n",
       "      <td>https://www.airbnb.com/rooms/12147973</td>\n",
       "      <td>20160906204935</td>\n",
       "      <td>2016-09-07</td>\n",
       "      <td>Sunny Bungalow in the City</td>\n",
       "      <td>Cozy, sunny, family home.  Master bedroom high...</td>\n",
       "      <td>The house has an open and cozy feel at the sam...</td>\n",
       "      <td>Cozy, sunny, family home.  Master bedroom high...</td>\n",
       "      <td>none</td>\n",
       "      <td>Roslindale is quiet, convenient and friendly. ...</td>\n",
       "      <td>...</td>\n",
       "      <td>NaN</td>\n",
       "      <td>f</td>\n",
       "      <td>NaN</td>\n",
       "      <td>NaN</td>\n",
       "      <td>f</td>\n",
       "      <td>moderate</td>\n",
       "      <td>f</td>\n",
       "      <td>f</td>\n",
       "      <td>1</td>\n",
       "      <td>NaN</td>\n",
       "    </tr>\n",
       "    <tr>\n",
       "      <th>1</th>\n",
       "      <td>3075044</td>\n",
       "      <td>https://www.airbnb.com/rooms/3075044</td>\n",
       "      <td>20160906204935</td>\n",
       "      <td>2016-09-07</td>\n",
       "      <td>Charming room in pet friendly apt</td>\n",
       "      <td>Charming and quiet room in a second floor 1910...</td>\n",
       "      <td>Small but cozy and quite room with a full size...</td>\n",
       "      <td>Charming and quiet room in a second floor 1910...</td>\n",
       "      <td>none</td>\n",
       "      <td>The room is in Roslindale, a diverse and prima...</td>\n",
       "      <td>...</td>\n",
       "      <td>9.0</td>\n",
       "      <td>f</td>\n",
       "      <td>NaN</td>\n",
       "      <td>NaN</td>\n",
       "      <td>t</td>\n",
       "      <td>moderate</td>\n",
       "      <td>f</td>\n",
       "      <td>f</td>\n",
       "      <td>1</td>\n",
       "      <td>1.30</td>\n",
       "    </tr>\n",
       "    <tr>\n",
       "      <th>2</th>\n",
       "      <td>6976</td>\n",
       "      <td>https://www.airbnb.com/rooms/6976</td>\n",
       "      <td>20160906204935</td>\n",
       "      <td>2016-09-07</td>\n",
       "      <td>Mexican Folk Art Haven in Boston</td>\n",
       "      <td>Come stay with a friendly, middle-aged guy in ...</td>\n",
       "      <td>Come stay with a friendly, middle-aged guy in ...</td>\n",
       "      <td>Come stay with a friendly, middle-aged guy in ...</td>\n",
       "      <td>none</td>\n",
       "      <td>The LOCATION: Roslindale is a safe and diverse...</td>\n",
       "      <td>...</td>\n",
       "      <td>10.0</td>\n",
       "      <td>f</td>\n",
       "      <td>NaN</td>\n",
       "      <td>NaN</td>\n",
       "      <td>f</td>\n",
       "      <td>moderate</td>\n",
       "      <td>t</td>\n",
       "      <td>f</td>\n",
       "      <td>1</td>\n",
       "      <td>0.47</td>\n",
       "    </tr>\n",
       "    <tr>\n",
       "      <th>3</th>\n",
       "      <td>1436513</td>\n",
       "      <td>https://www.airbnb.com/rooms/1436513</td>\n",
       "      <td>20160906204935</td>\n",
       "      <td>2016-09-07</td>\n",
       "      <td>Spacious Sunny Bedroom Suite in Historic Home</td>\n",
       "      <td>Come experience the comforts of home away from...</td>\n",
       "      <td>Most places you find in Boston are small howev...</td>\n",
       "      <td>Come experience the comforts of home away from...</td>\n",
       "      <td>none</td>\n",
       "      <td>Roslindale is a lovely little neighborhood loc...</td>\n",
       "      <td>...</td>\n",
       "      <td>10.0</td>\n",
       "      <td>f</td>\n",
       "      <td>NaN</td>\n",
       "      <td>NaN</td>\n",
       "      <td>f</td>\n",
       "      <td>moderate</td>\n",
       "      <td>f</td>\n",
       "      <td>f</td>\n",
       "      <td>1</td>\n",
       "      <td>1.00</td>\n",
       "    </tr>\n",
       "    <tr>\n",
       "      <th>4</th>\n",
       "      <td>7651065</td>\n",
       "      <td>https://www.airbnb.com/rooms/7651065</td>\n",
       "      <td>20160906204935</td>\n",
       "      <td>2016-09-07</td>\n",
       "      <td>Come Home to Boston</td>\n",
       "      <td>My comfy, clean and relaxing home is one block...</td>\n",
       "      <td>Clean, attractive, private room, one block fro...</td>\n",
       "      <td>My comfy, clean and relaxing home is one block...</td>\n",
       "      <td>none</td>\n",
       "      <td>I love the proximity to downtown, the neighbor...</td>\n",
       "      <td>...</td>\n",
       "      <td>10.0</td>\n",
       "      <td>f</td>\n",
       "      <td>NaN</td>\n",
       "      <td>NaN</td>\n",
       "      <td>f</td>\n",
       "      <td>flexible</td>\n",
       "      <td>f</td>\n",
       "      <td>f</td>\n",
       "      <td>1</td>\n",
       "      <td>2.25</td>\n",
       "    </tr>\n",
       "  </tbody>\n",
       "</table>\n",
       "<p>5 rows × 95 columns</p>\n",
       "</div>"
      ],
      "text/plain": [
       "         id                            listing_url       scrape_id  \\\n",
       "0  12147973  https://www.airbnb.com/rooms/12147973  20160906204935   \n",
       "1   3075044   https://www.airbnb.com/rooms/3075044  20160906204935   \n",
       "2      6976      https://www.airbnb.com/rooms/6976  20160906204935   \n",
       "3   1436513   https://www.airbnb.com/rooms/1436513  20160906204935   \n",
       "4   7651065   https://www.airbnb.com/rooms/7651065  20160906204935   \n",
       "\n",
       "  last_scraped                                           name  \\\n",
       "0   2016-09-07                     Sunny Bungalow in the City   \n",
       "1   2016-09-07              Charming room in pet friendly apt   \n",
       "2   2016-09-07               Mexican Folk Art Haven in Boston   \n",
       "3   2016-09-07  Spacious Sunny Bedroom Suite in Historic Home   \n",
       "4   2016-09-07                            Come Home to Boston   \n",
       "\n",
       "                                             summary  \\\n",
       "0  Cozy, sunny, family home.  Master bedroom high...   \n",
       "1  Charming and quiet room in a second floor 1910...   \n",
       "2  Come stay with a friendly, middle-aged guy in ...   \n",
       "3  Come experience the comforts of home away from...   \n",
       "4  My comfy, clean and relaxing home is one block...   \n",
       "\n",
       "                                               space  \\\n",
       "0  The house has an open and cozy feel at the sam...   \n",
       "1  Small but cozy and quite room with a full size...   \n",
       "2  Come stay with a friendly, middle-aged guy in ...   \n",
       "3  Most places you find in Boston are small howev...   \n",
       "4  Clean, attractive, private room, one block fro...   \n",
       "\n",
       "                                         description experiences_offered  \\\n",
       "0  Cozy, sunny, family home.  Master bedroom high...                none   \n",
       "1  Charming and quiet room in a second floor 1910...                none   \n",
       "2  Come stay with a friendly, middle-aged guy in ...                none   \n",
       "3  Come experience the comforts of home away from...                none   \n",
       "4  My comfy, clean and relaxing home is one block...                none   \n",
       "\n",
       "                               neighborhood_overview  ... review_scores_value  \\\n",
       "0  Roslindale is quiet, convenient and friendly. ...  ...                 NaN   \n",
       "1  The room is in Roslindale, a diverse and prima...  ...                 9.0   \n",
       "2  The LOCATION: Roslindale is a safe and diverse...  ...                10.0   \n",
       "3  Roslindale is a lovely little neighborhood loc...  ...                10.0   \n",
       "4  I love the proximity to downtown, the neighbor...  ...                10.0   \n",
       "\n",
       "  requires_license license jurisdiction_names instant_bookable  \\\n",
       "0                f     NaN                NaN                f   \n",
       "1                f     NaN                NaN                t   \n",
       "2                f     NaN                NaN                f   \n",
       "3                f     NaN                NaN                f   \n",
       "4                f     NaN                NaN                f   \n",
       "\n",
       "  cancellation_policy require_guest_profile_picture  \\\n",
       "0            moderate                             f   \n",
       "1            moderate                             f   \n",
       "2            moderate                             t   \n",
       "3            moderate                             f   \n",
       "4            flexible                             f   \n",
       "\n",
       "  require_guest_phone_verification calculated_host_listings_count  \\\n",
       "0                                f                              1   \n",
       "1                                f                              1   \n",
       "2                                f                              1   \n",
       "3                                f                              1   \n",
       "4                                f                              1   \n",
       "\n",
       "   reviews_per_month  \n",
       "0                NaN  \n",
       "1               1.30  \n",
       "2               0.47  \n",
       "3               1.00  \n",
       "4               2.25  \n",
       "\n",
       "[5 rows x 95 columns]"
      ]
     },
     "execution_count": 3,
     "metadata": {},
     "output_type": "execute_result"
    }
   ],
   "source": [
    "Boston_listing.head()\n"
   ]
  },
  {
   "cell_type": "code",
   "execution_count": 4,
   "metadata": {},
   "outputs": [
    {
     "data": {
      "text/plain": [
       "(3585, 95)"
      ]
     },
     "execution_count": 4,
     "metadata": {},
     "output_type": "execute_result"
    }
   ],
   "source": [
    "Boston_listing.shape"
   ]
  },
  {
   "cell_type": "code",
   "execution_count": 5,
   "metadata": {},
   "outputs": [
    {
     "data": {
      "text/plain": [
       "(3818, 92)"
      ]
     },
     "execution_count": 5,
     "metadata": {},
     "output_type": "execute_result"
    }
   ],
   "source": [
    "Seattle_listing.shape"
   ]
  },
  {
   "cell_type": "code",
   "execution_count": 6,
   "metadata": {},
   "outputs": [
    {
     "data": {
      "text/plain": [
       "<matplotlib.axes._subplots.AxesSubplot at 0x123ebc1d0>"
      ]
     },
     "execution_count": 6,
     "metadata": {},
     "output_type": "execute_result"
    },
    {
     "data": {
      "image/png": "[encoded data removed]",
      "text/plain": [
       "<Figure size 432x288 with 1 Axes>"
      ]
     },
     "metadata": {
      "needs_background": "light"
     },
     "output_type": "display_data"
    }
   ],
   "source": [
    "Boston_listing['price'].hist()"
   ]
  },
  {
   "cell_type": "code",
   "execution_count": 7,
   "metadata": {},
   "outputs": [
    {
     "data": {
      "text/plain": [
       "<matplotlib.axes._subplots.AxesSubplot at 0x1a2a09cd90>"
      ]
     },
     "execution_count": 7,
     "metadata": {},
     "output_type": "execute_result"
    },
    {
     "data": {
      "image/png": "[encoded data removed]",
      "text/plain": [
       "<Figure size 432x288 with 1 Axes>"
      ]
     },
     "metadata": {
      "needs_background": "light"
     },
     "output_type": "display_data"
    }
   ],
   "source": [
    "Seattle_listing['price'].hist()"
   ]
  },
  {
   "cell_type": "code",
   "execution_count": 8,
   "metadata": {},
   "outputs": [
    {
     "data": {
      "text/plain": [
       "50229"
      ]
     },
     "execution_count": 8,
     "metadata": {},
     "output_type": "execute_result"
    }
   ],
   "source": [
    "Boston_listing.isnull().sum().sum()"
   ]
  },
  {
   "cell_type": "code",
   "execution_count": 9,
   "metadata": {},
   "outputs": [],
   "source": [
    "## checking the missing data from two data sets\n",
    "\n",
    "drop_col = Seattle_listing.isnull().sum()/Seattle_listing.shape[0] \n",
    "drop_col = drop_col[drop_col > 0.4].index\n",
    "len(drop_col)\n",
    "drop_col\n",
    "Seattle_listing.drop(drop_col, axis= 1, inplace = True)\n"
   ]
  },
  {
   "cell_type": "code",
   "execution_count": 10,
   "metadata": {},
   "outputs": [],
   "source": [
    "drop_col = Boston_listing.isnull().sum()/Boston_listing.shape[0] \n",
    "drop_col = drop_col[drop_col > 0.4].index\n",
    "len(drop_col)\n",
    "drop_col\n",
    "Boston_listing.drop(drop_col, axis = 1, inplace = True)"
   ]
  },
  {
   "cell_type": "markdown",
   "metadata": {},
   "source": [
    "### Data Observation\n",
    "There are 6 columns with more than 40% missing values in Seattle data, namely ('notes', 'square_feet', 'weekly_price', 'monthly_price','security_deposit', 'license'). Hence are dropped. Similarly, there are 11 columns with more than 40% missing values in Boston Data ('notes', 'access', 'interaction', 'neighbourhood_group_cleansed','square_feet', 'weekly_price', 'monthly_price', 'security_deposit','has_availability', 'license', 'jurisdiction_names') and are dropped."
   ]
  },
  {
   "cell_type": "code",
   "execution_count": 11,
   "metadata": {},
   "outputs": [
    {
     "data": {
      "text/plain": [
       "(3585, 84)"
      ]
     },
     "execution_count": 11,
     "metadata": {},
     "output_type": "execute_result"
    }
   ],
   "source": [
    "Boston_listing.shape"
   ]
  },
  {
   "cell_type": "code",
   "execution_count": 12,
   "metadata": {},
   "outputs": [],
   "source": [
    "## convert the price from string to float\n",
    "if type(Boston_listing.price[0]) == str:\n",
    "        Boston_listing.price = Boston_listing.price.apply(lambda x: float(x[1:].replace(',', '')))\n",
    "if type(Seattle_listing.price[0]) == str:\n",
    "            Seattle_listing.price = Seattle_listing.price.apply(lambda x: float(x[1:].replace(',', '')))"
   ]
  },
  {
   "cell_type": "code",
   "execution_count": 13,
   "metadata": {},
   "outputs": [
    {
     "data": {
      "text/plain": [
       "count    3585.000000\n",
       "mean      173.925802\n",
       "std       148.331321\n",
       "min        10.000000\n",
       "25%        85.000000\n",
       "50%       150.000000\n",
       "75%       220.000000\n",
       "max      4000.000000\n",
       "Name: price, dtype: float64"
      ]
     },
     "execution_count": 13,
     "metadata": {},
     "output_type": "execute_result"
    }
   ],
   "source": [
    "Boston_listing.price.describe()\n"
   ]
  },
  {
   "cell_type": "code",
   "execution_count": 14,
   "metadata": {},
   "outputs": [
    {
     "data": {
      "text/plain": [
       "count    3818.000000\n",
       "mean      127.976166\n",
       "std        90.250022\n",
       "min        20.000000\n",
       "25%        75.000000\n",
       "50%       100.000000\n",
       "75%       150.000000\n",
       "max      1000.000000\n",
       "Name: price, dtype: float64"
      ]
     },
     "execution_count": 14,
     "metadata": {},
     "output_type": "execute_result"
    }
   ],
   "source": [
    "Seattle_listing.price.describe()"
   ]
  },
  {
   "cell_type": "code",
   "execution_count": 15,
   "metadata": {},
   "outputs": [
    {
     "data": {
      "image/png": "[encoded data removed]",
      "text/plain": [
       "<Figure size 864x288 with 1 Axes>"
      ]
     },
     "metadata": {
      "needs_background": "light"
     },
     "output_type": "display_data"
    }
   ],
   "source": [
    "plt.figure(figsize=(12,4))\n",
    "plt.title('Distribution of the Price in Boston')\n",
    "plt.hist(Boston_listing.price,bins = np.linspace(0,1000,100))\n",
    "plt.xlabel('Price')\n",
    "plt.ylabel('Count')\n",
    "plt.show()"
   ]
  },
  {
   "cell_type": "code",
   "execution_count": 16,
   "metadata": {},
   "outputs": [
    {
     "data": {
      "image/png": "[encoded data removed]",
      "text/plain": [
       "<Figure size 864x288 with 1 Axes>"
      ]
     },
     "metadata": {
      "needs_background": "light"
     },
     "output_type": "display_data"
    }
   ],
   "source": [
    "plt.figure(figsize=(12,4))\n",
    "plt.title('Distribution of the Price in Seattle')\n",
    "plt.hist(Seattle_listing.price,bins = np.linspace(0,1000,100))\n",
    "plt.xlabel('Price')\n",
    "plt.ylabel('Count')\n",
    "plt.show()"
   ]
  },
  {
   "cell_type": "markdown",
   "metadata": {},
   "source": [
    "### Data Observation\n",
    "The average price in Boston is $174, with standard deviation of $148, the maximum daily rate is $4000 and 50% of the prices are under $150,  and 75% of hte price are under $220. The average price in Boston is $127, with standard deviation of $90, the maximum daily rate is $1000 and 50% of the prices are under $100,  and 75% of hte price are under $150. "
   ]
  },
  {
   "cell_type": "code",
   "execution_count": 17,
   "metadata": {},
   "outputs": [
    {
     "data": {
      "text/plain": [
       "(3585, 47)"
      ]
     },
     "execution_count": 17,
     "metadata": {},
     "output_type": "execute_result"
    }
   ],
   "source": [
    "### Drop a few columns that do not make sense\n",
    "drop_col=['host_since','space', 'neighborhood_overview', 'transit', 'house_rules','listing_url', 'scrape_id', 'last_scraped', 'name', 'summary', 'description', \n",
    "               'experiences_offered', 'picture_url', 'host_url', 'host_name', 'host_thumbnail_url', 'host_about', 'host_neighbourhood',\n",
    "              'host_picture_url', 'host_location', 'street', 'city', 'state', 'smart_location', 'country_code', 'country', 'first_review', 'last_review', 'id', 'host_verifications', \n",
    "               'host_id', 'neighbourhood', 'calendar_last_scraped', 'market', 'thumbnail_url', 'medium_url', 'xl_picture_url', ]\n",
    "\n",
    "Boston_listing.drop(drop_col, axis =1, inplace = True)\n",
    "Boston_listing.shape"
   ]
  },
  {
   "cell_type": "code",
   "execution_count": 18,
   "metadata": {},
   "outputs": [
    {
     "data": {
      "text/plain": [
       "(3818, 50)"
      ]
     },
     "execution_count": 18,
     "metadata": {},
     "output_type": "execute_result"
    }
   ],
   "source": [
    "drop_col = ['host_since','space', 'neighborhood_overview', 'transit','listing_url', 'scrape_id', 'last_scraped', 'name', 'summary', 'description', \n",
    "               'experiences_offered', 'picture_url', 'host_url', 'host_name', 'host_thumbnail_url', 'host_about', 'host_neighbourhood',\n",
    "              'host_picture_url', 'host_location', 'street', 'city', 'state', 'smart_location', 'country_code', 'country', 'first_review', 'last_review', 'id', 'host_verifications', \n",
    "               'host_id', 'neighbourhood', 'calendar_last_scraped', 'market', 'thumbnail_url', 'medium_url', 'xl_picture_url']\n",
    "Seattle_listing.drop(drop_col, axis =1, inplace = True)\n",
    "Seattle_listing.shape"
   ]
  },
  {
   "cell_type": "code",
   "execution_count": 19,
   "metadata": {},
   "outputs": [
    {
     "data": {
      "text/plain": [
       "Index(['host_response_time', 'host_response_rate', 'host_acceptance_rate',\n",
       "       'host_is_superhost', 'host_listings_count', 'host_total_listings_count',\n",
       "       'host_has_profile_pic', 'host_identity_verified',\n",
       "       'neighbourhood_cleansed', 'zipcode', 'latitude', 'longitude',\n",
       "       'is_location_exact', 'property_type', 'room_type', 'accommodates',\n",
       "       'bathrooms', 'bedrooms', 'beds', 'bed_type', 'amenities', 'price',\n",
       "       'cleaning_fee', 'guests_included', 'extra_people', 'minimum_nights',\n",
       "       'maximum_nights', 'calendar_updated', 'availability_30',\n",
       "       'availability_60', 'availability_90', 'availability_365',\n",
       "       'number_of_reviews', 'review_scores_rating', 'review_scores_accuracy',\n",
       "       'review_scores_cleanliness', 'review_scores_checkin',\n",
       "       'review_scores_communication', 'review_scores_location',\n",
       "       'review_scores_value', 'requires_license', 'instant_bookable',\n",
       "       'cancellation_policy', 'require_guest_profile_picture',\n",
       "       'require_guest_phone_verification', 'calculated_host_listings_count',\n",
       "       'reviews_per_month'],\n",
       "      dtype='object')"
      ]
     },
     "execution_count": 19,
     "metadata": {},
     "output_type": "execute_result"
    }
   ],
   "source": [
    "Boston_listing.columns"
   ]
  },
  {
   "cell_type": "code",
   "execution_count": 20,
   "metadata": {},
   "outputs": [],
   "source": [
    "#From the price histogram, there are some price outliers in both cities. \n",
    "## We elected to only work with the 95% of the price data. \n",
    "drop_row = Boston_listing[Boston_listing.price>Boston_listing.price.quantile(0.95)].index\n",
    "Boston_listing.drop(drop_row, axis = 0, inplace = True)"
   ]
  },
  {
   "cell_type": "code",
   "execution_count": 21,
   "metadata": {},
   "outputs": [
    {
     "data": {
      "text/plain": [
       "(3630, 50)"
      ]
     },
     "execution_count": 21,
     "metadata": {},
     "output_type": "execute_result"
    }
   ],
   "source": [
    "drop_row = Seattle_listing[Seattle_listing.price>Seattle_listing.price.quantile(0.95)].index\n",
    "Seattle_listing.drop(drop_row, axis = 0, inplace = True)\n",
    "\n",
    "Seattle_listing.shape"
   ]
  },
  {
   "cell_type": "code",
   "execution_count": 22,
   "metadata": {},
   "outputs": [],
   "source": [
    "## translate the amenities column into categorical variables\n",
    "\n",
    "amenities = Boston_listing['amenities'].map(lambda d: [amenity.replace('\"', \"\").replace(\"{\", \"\").replace(\"}\", \"\") for amenity in d.split(\",\")])\n",
    "Boston_listing['amenities'] = amenities\n",
    "\n"
   ]
  },
  {
   "cell_type": "code",
   "execution_count": 23,
   "metadata": {},
   "outputs": [],
   "source": [
    "B_amenities = set([item for sublist in amenities for item in sublist])\n",
    "B_amenities = list(B_amenities)\n"
   ]
  },
  {
   "cell_type": "code",
   "execution_count": 24,
   "metadata": {},
   "outputs": [],
   "source": [
    "#B_amenities.pop(0)\n"
   ]
  },
  {
   "cell_type": "code",
   "execution_count": 25,
   "metadata": {},
   "outputs": [
    {
     "data": {
      "text/plain": [
       "46"
      ]
     },
     "execution_count": 25,
     "metadata": {},
     "output_type": "execute_result"
    }
   ],
   "source": [
    "B_amenities\n",
    "len(B_amenities)"
   ]
  },
  {
   "cell_type": "code",
   "execution_count": 26,
   "metadata": {},
   "outputs": [],
   "source": [
    "mlb = MultiLabelBinarizer()\n",
    "amenities_B = pd.DataFrame(mlb.fit_transform(Boston_listing['amenities']),columns=mlb.classes_, index=Boston_listing.index)"
   ]
  },
  {
   "cell_type": "code",
   "execution_count": 27,
   "metadata": {},
   "outputs": [],
   "source": [
    "Boston_listing = pd.concat([Boston_listing, amenities_B], axis=1, sort = False)\n"
   ]
  },
  {
   "cell_type": "code",
   "execution_count": 28,
   "metadata": {},
   "outputs": [
    {
     "data": {
      "text/plain": [
       "(3408, 93)"
      ]
     },
     "execution_count": 28,
     "metadata": {},
     "output_type": "execute_result"
    }
   ],
   "source": [
    "Boston_listing.shape\n"
   ]
  },
  {
   "cell_type": "code",
   "execution_count": 29,
   "metadata": {},
   "outputs": [
    {
     "data": {
      "text/plain": [
       "(3630, 92)"
      ]
     },
     "execution_count": 29,
     "metadata": {},
     "output_type": "execute_result"
    }
   ],
   "source": [
    "amenities = Seattle_listing['amenities'].map(lambda d: [amenity.replace('\"', \"\").replace(\"{\", \"\").replace(\"}\", \"\") for amenity in d.split(\",\")])\n",
    "Seattle_listing['amenities'] = amenities\n",
    "S_amenities = set([item for sublist in amenities for item in sublist])\n",
    "S_amenities = list(S_amenities)\n",
    "#S_amenities.pop(0)\n",
    "amenities_S = pd.DataFrame(mlb.fit_transform(Seattle_listing['amenities']),columns=mlb.classes_, index=Seattle_listing.index)\n",
    "Seattle_listing = pd.concat([Seattle_listing, amenities_S], axis =1, sort = False)\n",
    "Seattle_listing.shape\n"
   ]
  },
  {
   "cell_type": "code",
   "execution_count": 30,
   "metadata": {},
   "outputs": [
    {
     "data": {
      "text/plain": [
       "(3408, 92)"
      ]
     },
     "execution_count": 30,
     "metadata": {},
     "output_type": "execute_result"
    }
   ],
   "source": [
    "Boston_listing.drop('amenities', axis =1, inplace = True)\n",
    "Seattle_listing.drop('amenities', axis =1, inplace = True)\n",
    "Boston_listing.shape"
   ]
  },
  {
   "cell_type": "code",
   "execution_count": 31,
   "metadata": {},
   "outputs": [
    {
     "data": {
      "text/plain": [
       "(3630, 91)"
      ]
     },
     "execution_count": 31,
     "metadata": {},
     "output_type": "execute_result"
    }
   ],
   "source": [
    "Seattle_listing.shape"
   ]
  },
  {
   "cell_type": "code",
   "execution_count": 32,
   "metadata": {},
   "outputs": [],
   "source": [
    "Boston_listing['cleaning_fee'] = Boston_listing['cleaning_fee'].replace( '[$,]','', regex=True ).astype(float)\n",
    "Boston_listing['extra_people'] = Boston_listing['extra_people'].replace( '[$,]','', regex=True ).astype(float)\n",
    "Boston_listing['host_response_rate'] = Boston_listing['host_response_rate'].replace( '%','', regex=True ).astype(float)\n",
    "\n",
    "if type(Boston_listing.zipcode[0]) == str:\n",
    "    Boston_listing.zipcode = Boston_listing.zipcode.str[:5].apply(lambda x: float(x))"
   ]
  },
  {
   "cell_type": "code",
   "execution_count": 33,
   "metadata": {},
   "outputs": [],
   "source": [
    "Seattle_listing['cleaning_fee'] = Seattle_listing['cleaning_fee'].replace( '[$,]','', regex=True ).astype(float)\n",
    "Seattle_listing['extra_people'] = Seattle_listing['extra_people'].replace( '[$,]','', regex=True ).astype(float)\n",
    "Seattle_listing['host_response_rate'] = Seattle_listing['host_response_rate'].replace( '%','', regex=True ).astype(float)\n",
    "\n",
    "if type(Seattle_listing.zipcode[0]) == str:\n",
    "    Seattle_listing.zipcode = Seattle_listing.zipcode.str[:5].apply(lambda x: float(x))\n",
    "    \n",
    "## Seattle zip code has a line which is a typo, manually corrected it."
   ]
  },
  {
   "cell_type": "code",
   "execution_count": 34,
   "metadata": {},
   "outputs": [],
   "source": [
    "## fill the missing data\n",
    "Boston_listing['bathrooms'].fillna(Boston_listing.groupby('bedrooms')['bathrooms'].transform('median'), inplace = True)\n",
    "Boston_listing['bedrooms'].fillna(Boston_listing.groupby('bathrooms')['bedrooms'].transform('median'), inplace = True)\n",
    "Boston_listing['beds'].fillna(Boston_listing.groupby('bedrooms')['beds'].transform('median'), inplace = True)\n",
    "Boston_listing['cleaning_fee'].fillna(0, inplace = True)\n",
    "\n",
    "Seattle_listing['bathrooms'].fillna(Seattle_listing.groupby('bedrooms')['bathrooms'].transform('median'), inplace = True)\n",
    "Seattle_listing['bedrooms'].fillna(Seattle_listing.groupby('bathrooms')['bedrooms'].transform('median'), inplace = True)\n",
    "Seattle_listing['beds'].fillna(Seattle_listing.groupby('bedrooms')['beds'].transform('median'), inplace = True)\n",
    "Seattle_listing['cleaning_fee'].fillna(0, inplace = True)\n",
    "\n",
    "\n"
   ]
  },
  {
   "cell_type": "code",
   "execution_count": 35,
   "metadata": {},
   "outputs": [],
   "source": [
    "## fill mean \n",
    "mean_list = ['review_scores_rating', 'review_scores_accuracy', 'review_scores_cleanliness', 'review_scores_checkin', 'review_scores_communication', \n",
    "             'host_response_rate',       'review_scores_location', 'review_scores_value', 'reviews_per_month']\n",
    "for col in mean_list:\n",
    "    Boston_listing[col].fillna(Boston_listing[col].mean(), inplace = True)\n",
    "    Seattle_listing[col].fillna(Seattle_listing[col].mean(), inplace = True)"
   ]
  },
  {
   "cell_type": "code",
   "execution_count": 36,
   "metadata": {},
   "outputs": [],
   "source": [
    "Boston_listing['host_acceptance_rate']=Boston_listing['host_acceptance_rate'].str.rstrip('%').astype(float) / 100.0\n"
   ]
  },
  {
   "cell_type": "code",
   "execution_count": 37,
   "metadata": {},
   "outputs": [],
   "source": [
    "Boston_listing['host_acceptance_rate'].fillna(1, inplace=True)"
   ]
  },
  {
   "cell_type": "code",
   "execution_count": 38,
   "metadata": {},
   "outputs": [],
   "source": [
    "Boston_listing.zipcode.fillna(Boston_listing.groupby('neighbourhood_cleansed')['zipcode'].apply(lambda x: x.fillna(x.value_counts().index[0])), inplace = True)\n",
    "\n",
    "Seattle_listing.zipcode.fillna(Seattle_listing.groupby('neighbourhood_cleansed')['zipcode'].apply(lambda x: x.fillna(x.value_counts().index[0])), inplace = True)\n",
    "\n"
   ]
  },
  {
   "cell_type": "code",
   "execution_count": 39,
   "metadata": {},
   "outputs": [
    {
     "data": {
      "text/plain": [
       "host_response_time       484\n",
       "host_response_rate         0\n",
       "host_acceptance_rate     709\n",
       "host_is_superhost          2\n",
       "host_listings_count        2\n",
       "                        ... \n",
       "TV                         0\n",
       "Washer                     0\n",
       "Washer / Dryer             0\n",
       "Wheelchair Accessible      0\n",
       "Wireless Internet          0\n",
       "Length: 91, dtype: int64"
      ]
     },
     "execution_count": 39,
     "metadata": {},
     "output_type": "execute_result"
    }
   ],
   "source": [
    "Seattle_listing.isnull().sum()\n"
   ]
  },
  {
   "cell_type": "code",
   "execution_count": 40,
   "metadata": {},
   "outputs": [],
   "source": [
    "### taking care of the 2 columns in the Seattle listing which has missing values \n",
    "Seattle_listing['host_total_listings_count'].fillna(1, inplace = True)\n",
    "Seattle_listing['host_listings_count'].fillna(1, inplace = True)"
   ]
  },
  {
   "cell_type": "code",
   "execution_count": 41,
   "metadata": {},
   "outputs": [],
   "source": [
    "Boston_listing = pd.get_dummies(Boston_listing)\n",
    "Seattle_listing = pd.get_dummies(Seattle_listing)"
   ]
  },
  {
   "cell_type": "code",
   "execution_count": 42,
   "metadata": {},
   "outputs": [],
   "source": [
    "price_Boston = Boston_listing.pop('price')"
   ]
  },
  {
   "cell_type": "code",
   "execution_count": 43,
   "metadata": {},
   "outputs": [],
   "source": [
    "price_Seattle = Seattle_listing.pop('price')\n"
   ]
  },
  {
   "cell_type": "code",
   "execution_count": 44,
   "metadata": {},
   "outputs": [],
   "source": [
    "## use minmax scaler to scale the possible numerical values\n",
    "scaling = MinMaxScaler()\n",
    "numerical = ['latitude', 'longitude', 'review_scores_rating']\n",
    "Seattle_listing[numerical] = scaling.fit_transform(Seattle_listing[numerical])\n",
    "Boston_listing[numerical] = scaling.fit_transform(Boston_listing[numerical])"
   ]
  },
  {
   "cell_type": "code",
   "execution_count": 45,
   "metadata": {},
   "outputs": [
    {
     "data": {
      "text/plain": [
       "['host_acceptance_rate_0%',\n",
       " 'host_acceptance_rate_100%',\n",
       " 'neighbourhood_cleansed_Adams',\n",
       " 'neighbourhood_cleansed_Alki',\n",
       " 'neighbourhood_cleansed_Arbor Heights',\n",
       " 'neighbourhood_cleansed_Atlantic',\n",
       " 'neighbourhood_cleansed_Belltown',\n",
       " 'neighbourhood_cleansed_Bitter Lake',\n",
       " 'neighbourhood_cleansed_Briarcliff',\n",
       " 'neighbourhood_cleansed_Broadview',\n",
       " 'neighbourhood_cleansed_Broadway',\n",
       " 'neighbourhood_cleansed_Bryant',\n",
       " 'neighbourhood_cleansed_Cedar Park',\n",
       " 'neighbourhood_cleansed_Central Business District',\n",
       " 'neighbourhood_cleansed_Columbia City',\n",
       " 'neighbourhood_cleansed_Crown Hill',\n",
       " 'neighbourhood_cleansed_Dunlap',\n",
       " 'neighbourhood_cleansed_East Queen Anne',\n",
       " 'neighbourhood_cleansed_Eastlake',\n",
       " 'neighbourhood_cleansed_Fairmount Park',\n",
       " 'neighbourhood_cleansed_Fauntleroy',\n",
       " 'neighbourhood_cleansed_First Hill',\n",
       " 'neighbourhood_cleansed_Fremont',\n",
       " 'neighbourhood_cleansed_Gatewood',\n",
       " 'neighbourhood_cleansed_Genesee',\n",
       " 'neighbourhood_cleansed_Georgetown',\n",
       " 'neighbourhood_cleansed_Green Lake',\n",
       " 'neighbourhood_cleansed_Greenwood',\n",
       " 'neighbourhood_cleansed_Haller Lake',\n",
       " 'neighbourhood_cleansed_Harrison/Denny-Blaine',\n",
       " 'neighbourhood_cleansed_High Point',\n",
       " 'neighbourhood_cleansed_Highland Park',\n",
       " 'neighbourhood_cleansed_Holly Park',\n",
       " 'neighbourhood_cleansed_Industrial District',\n",
       " 'neighbourhood_cleansed_Interbay',\n",
       " 'neighbourhood_cleansed_International District',\n",
       " 'neighbourhood_cleansed_Laurelhurst',\n",
       " 'neighbourhood_cleansed_Lawton Park',\n",
       " 'neighbourhood_cleansed_Leschi',\n",
       " 'neighbourhood_cleansed_Lower Queen Anne',\n",
       " 'neighbourhood_cleansed_Loyal Heights',\n",
       " 'neighbourhood_cleansed_Madison Park',\n",
       " 'neighbourhood_cleansed_Madrona',\n",
       " 'neighbourhood_cleansed_Mann',\n",
       " 'neighbourhood_cleansed_Maple Leaf',\n",
       " 'neighbourhood_cleansed_Matthews Beach',\n",
       " 'neighbourhood_cleansed_Meadowbrook',\n",
       " 'neighbourhood_cleansed_Mid-Beacon Hill',\n",
       " 'neighbourhood_cleansed_Minor',\n",
       " 'neighbourhood_cleansed_Montlake',\n",
       " 'neighbourhood_cleansed_Mount Baker',\n",
       " 'neighbourhood_cleansed_North Admiral',\n",
       " 'neighbourhood_cleansed_North Beach/Blue Ridge',\n",
       " 'neighbourhood_cleansed_North Beacon Hill',\n",
       " 'neighbourhood_cleansed_North College Park',\n",
       " 'neighbourhood_cleansed_North Delridge',\n",
       " 'neighbourhood_cleansed_North Queen Anne',\n",
       " 'neighbourhood_cleansed_Olympic Hills',\n",
       " 'neighbourhood_cleansed_Phinney Ridge',\n",
       " 'neighbourhood_cleansed_Pike-Market',\n",
       " 'neighbourhood_cleansed_Pinehurst',\n",
       " 'neighbourhood_cleansed_Pioneer Square',\n",
       " 'neighbourhood_cleansed_Portage Bay',\n",
       " 'neighbourhood_cleansed_Rainier Beach',\n",
       " 'neighbourhood_cleansed_Ravenna',\n",
       " 'neighbourhood_cleansed_Riverview',\n",
       " 'neighbourhood_cleansed_Roosevelt',\n",
       " 'neighbourhood_cleansed_Roxhill',\n",
       " 'neighbourhood_cleansed_Seaview',\n",
       " 'neighbourhood_cleansed_Seward Park',\n",
       " 'neighbourhood_cleansed_South Beacon Hill',\n",
       " 'neighbourhood_cleansed_South Delridge',\n",
       " 'neighbourhood_cleansed_South Lake Union',\n",
       " 'neighbourhood_cleansed_South Park',\n",
       " 'neighbourhood_cleansed_Southeast Magnolia',\n",
       " 'neighbourhood_cleansed_Stevens',\n",
       " 'neighbourhood_cleansed_Sunset Hill',\n",
       " 'neighbourhood_cleansed_University District',\n",
       " 'neighbourhood_cleansed_Victory Heights',\n",
       " 'neighbourhood_cleansed_View Ridge',\n",
       " 'neighbourhood_cleansed_Wallingford',\n",
       " 'neighbourhood_cleansed_Wedgwood',\n",
       " 'neighbourhood_cleansed_West Queen Anne',\n",
       " 'neighbourhood_cleansed_West Woodland',\n",
       " 'neighbourhood_cleansed_Westlake',\n",
       " 'neighbourhood_cleansed_Whittier Heights',\n",
       " 'neighbourhood_cleansed_Windermere',\n",
       " 'neighbourhood_cleansed_Yesler Terrace',\n",
       " 'neighbourhood_group_cleansed_Ballard',\n",
       " 'neighbourhood_group_cleansed_Beacon Hill',\n",
       " 'neighbourhood_group_cleansed_Capitol Hill',\n",
       " 'neighbourhood_group_cleansed_Cascade',\n",
       " 'neighbourhood_group_cleansed_Central Area',\n",
       " 'neighbourhood_group_cleansed_Delridge',\n",
       " 'neighbourhood_group_cleansed_Downtown',\n",
       " 'neighbourhood_group_cleansed_Interbay',\n",
       " 'neighbourhood_group_cleansed_Lake City',\n",
       " 'neighbourhood_group_cleansed_Magnolia',\n",
       " 'neighbourhood_group_cleansed_Northgate',\n",
       " 'neighbourhood_group_cleansed_Other neighborhoods',\n",
       " 'neighbourhood_group_cleansed_Queen Anne',\n",
       " 'neighbourhood_group_cleansed_Rainier Valley',\n",
       " 'neighbourhood_group_cleansed_Seward Park',\n",
       " 'neighbourhood_group_cleansed_University District',\n",
       " 'neighbourhood_group_cleansed_West Seattle',\n",
       " 'property_type_Bungalow',\n",
       " 'property_type_Cabin',\n",
       " 'property_type_Chalet',\n",
       " 'property_type_Tent',\n",
       " 'property_type_Treehouse',\n",
       " 'property_type_Yurt',\n",
       " 'calendar_updated_30 months ago',\n",
       " 'has_availability_t',\n",
       " 'jurisdiction_names_WASHINGTON']"
      ]
     },
     "execution_count": 45,
     "metadata": {},
     "output_type": "execute_result"
    }
   ],
   "source": [
    "[col for col in Seattle_listing.columns if col not in Boston_listing.columns]"
   ]
  },
  {
   "cell_type": "code",
   "execution_count": 46,
   "metadata": {},
   "outputs": [],
   "source": [
    "## train a random forest model\n",
    "X_train_B, X_test_B, y_train_B, y_test_B = train_test_split(Boston_listing, price_Boston, test_size = 0.2, random_state = 42)\n",
    "X_train_S, X_test_S, y_train_S, y_test_S = train_test_split(Seattle_listing, price_Seattle, test_size = 0.3, random_state = 42)"
   ]
  },
  {
   "cell_type": "code",
   "execution_count": 47,
   "metadata": {},
   "outputs": [
    {
     "name": "stderr",
     "output_type": "stream",
     "text": [
      "//anaconda3/lib/python3.7/site-packages/sklearn/ensemble/forest.py:245: FutureWarning: The default value of n_estimators will change from 10 in version 0.20 to 100 in 0.22.\n",
      "  \"10 in version 0.20 to 100 in 0.22.\", FutureWarning)\n"
     ]
    },
    {
     "name": "stdout",
     "output_type": "stream",
     "text": [
      "R2 score for Boston listing traing set is 0.9326157869296959 and testing set is 0.5922650341212276\n"
     ]
    }
   ],
   "source": [
    "RFF_model = RandomForestRegressor()\n",
    "RFF_B = RFF_model.fit(X_train_B, y_train_B)\n",
    "y_pred_B = RFF_B.predict(X_test_B)\n",
    "print('R2 score for Boston listing traing set is {} and testing set is {}'.format(r2_score(RFF_B.predict(X_train_B), y_train_B), r2_score(y_pred_B, y_test_B)))"
   ]
  },
  {
   "cell_type": "code",
   "execution_count": 48,
   "metadata": {},
   "outputs": [
    {
     "name": "stderr",
     "output_type": "stream",
     "text": [
      "//anaconda3/lib/python3.7/site-packages/sklearn/ensemble/forest.py:245: FutureWarning: The default value of n_estimators will change from 10 in version 0.20 to 100 in 0.22.\n",
      "  \"10 in version 0.20 to 100 in 0.22.\", FutureWarning)\n"
     ]
    },
    {
     "name": "stdout",
     "output_type": "stream",
     "text": [
      "R2 score for Seattle listing traing set is 0.9177904802067282 and testing set is 0.315805587554036\n"
     ]
    }
   ],
   "source": [
    "RFF_model = RandomForestRegressor()\n",
    "RFF_S  = RFF_model.fit(X_train_S, y_train_S)\n",
    "y_pred_S = RFF_S.predict(X_test_S)\n",
    "print('R2 score for Seattle listing traing set is {} and testing set is {}'.format(r2_score(RFF_S.predict(X_train_S), y_train_S), r2_score(y_pred_S, y_test_S)))"
   ]
  },
  {
   "cell_type": "code",
   "execution_count": 49,
   "metadata": {},
   "outputs": [
    {
     "data": {
      "image/png": "[encoded data removed]",
      "text/plain": [
       "<Figure size 864x288 with 1 Axes>"
      ]
     },
     "metadata": {
      "needs_background": "light"
     },
     "output_type": "display_data"
    }
   ],
   "source": [
    "### feature importance for both Boston and Seattle Data\n",
    "feature_importances = RFF_B.feature_importances_\n",
    "features = sorted(zip(feature_importances, Boston_listing.columns), reverse=True)\n",
    "feat = []\n",
    "coef = []\n",
    "for feature in features:\n",
    "    feat.append(feature[1]) \n",
    "    coef.append(feature[0])\n",
    "plt.figure(figsize=(12,4))\n",
    "plt.bar(feat[:20], height=coef[:20])\n",
    "plt.xticks(rotation=90)\n",
    "plt.xlabel('feature')\n",
    "plt.ylabel('feature importance')\n",
    "plt.title('feature importance for the Top 20 features in Boston')\n",
    "plt.show()\n",
    "\n"
   ]
  },
  {
   "cell_type": "code",
   "execution_count": 50,
   "metadata": {},
   "outputs": [
    {
     "data": {
      "image/png": "[encoded data removed]",
      "text/plain": [
       "<Figure size 864x288 with 1 Axes>"
      ]
     },
     "metadata": {
      "needs_background": "light"
     },
     "output_type": "display_data"
    }
   ],
   "source": [
    "amen = []\n",
    "coef = []\n",
    "for feature in features:\n",
    "    if feature[1] in B_amenities:\n",
    "        amen.append(feature[1]) \n",
    "        coef.append(feature[0])\n",
    "plt.figure(figsize=(12,4))\n",
    "plt.bar(amen[:10], height=coef[:10])\n",
    "plt.xticks(rotation=90)\n",
    "plt.xlabel('amenities')\n",
    "plt.ylabel('amenity importance')\n",
    "plt.title('amenity importance for the Top 10 amenities in Boston')\n",
    "plt.show()"
   ]
  },
  {
   "cell_type": "code",
   "execution_count": 51,
   "metadata": {},
   "outputs": [
    {
     "data": {
      "image/png": "[encoded data removed]",
      "text/plain": [
       "<Figure size 864x288 with 1 Axes>"
      ]
     },
     "metadata": {
      "needs_background": "light"
     },
     "output_type": "display_data"
    },
    {
     "data": {
      "image/png": "[encoded data removed]",
      "text/plain": [
       "<Figure size 864x288 with 1 Axes>"
      ]
     },
     "metadata": {
      "needs_background": "light"
     },
     "output_type": "display_data"
    }
   ],
   "source": [
    "feature_importances = RFF_S.feature_importances_\n",
    "features = sorted(zip(feature_importances, Seattle_listing.columns), reverse=True)\n",
    "feat = []\n",
    "coef = []\n",
    "for feature in features:\n",
    "    feat.append(feature[1]) \n",
    "    coef.append(feature[0])\n",
    "plt.figure(figsize=(12,4))\n",
    "plt.bar(feat[:20], height=coef[:20])\n",
    "plt.xticks(rotation=90)\n",
    "plt.xlabel('feature')\n",
    "plt.ylabel('feature importance')\n",
    "plt.title('feature importance for the Top 20 features in Seattle')\n",
    "plt.show()\n",
    "\n",
    "amen = []\n",
    "coef = []\n",
    "for feature in features:\n",
    "    if feature[1] in S_amenities:\n",
    "        amen.append(feature[1]) \n",
    "        coef.append(feature[0])\n",
    "plt.figure(figsize=(12,4))\n",
    "plt.bar(amen[:10], height=coef[:10])\n",
    "plt.xticks(rotation=90)\n",
    "plt.xlabel('amenities')\n",
    "plt.ylabel('amenity importance')\n",
    "plt.title('amenity importance for the Top 10 amenities in Seattle')\n",
    "plt.show()"
   ]
  },
  {
   "cell_type": "markdown",
   "metadata": {},
   "source": [
    "### Observation\n",
    "The Roomtype_entire_home/apt and bedrooms are the most dominant features in determining the price in both Seattle and Boston markets. It makes sense as these two factors in the size of the home/apartment. Then the next influencial features in both markets are the location and zip code. <br>\n",
    "The amenities contribute less in both markets, but interesting to observe that elevator in building is the most desireable amenities in both market. "
   ]
  },
  {
   "cell_type": "code",
   "execution_count": 52,
   "metadata": {},
   "outputs": [
    {
     "data": {
      "text/plain": [
       "350.0"
      ]
     },
     "execution_count": 52,
     "metadata": {},
     "output_type": "execute_result"
    }
   ],
   "source": [
    "price_Boston.quantile(0.99)"
   ]
  },
  {
   "cell_type": "code",
   "execution_count": 53,
   "metadata": {},
   "outputs": [
    {
     "data": {
      "text/plain": [
       "275.0"
      ]
     },
     "execution_count": 53,
     "metadata": {},
     "output_type": "execute_result"
    }
   ],
   "source": [
    "price_Seattle.quantile(0.99)"
   ]
  },
  {
   "cell_type": "code",
   "execution_count": 54,
   "metadata": {},
   "outputs": [
    {
     "data": {
      "text/plain": [
       "46"
      ]
     },
     "execution_count": 54,
     "metadata": {},
     "output_type": "execute_result"
    }
   ],
   "source": [
    "len(B_amenities)"
   ]
  },
  {
   "cell_type": "code",
   "execution_count": 55,
   "metadata": {},
   "outputs": [
    {
     "data": {
      "text/plain": [
       "42"
      ]
     },
     "execution_count": 55,
     "metadata": {},
     "output_type": "execute_result"
    }
   ],
   "source": [
    "len(S_amenities)"
   ]
  },
  {
   "cell_type": "code",
   "execution_count": null,
   "metadata": {},
   "outputs": [],
   "source": []
  }
 ],
 "metadata": {
  "kernelspec": {
   "display_name": "Python 3",
   "language": "python",
   "name": "python3"
  },
  "language_info": {
   "codemirror_mode": {
    "name": "ipython",
    "version": 3
   },
   "file_extension": ".py",
   "mimetype": "text/x-python",
   "name": "python",
   "nbconvert_exporter": "python",
   "pygments_lexer": "ipython3",
   "version": "3.7.5"
  }
 },
 "nbformat": 4,
 "nbformat_minor": 2
}
